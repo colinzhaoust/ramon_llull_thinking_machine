{
 "cells": [
  {
   "cell_type": "code",
   "execution_count": 1,
   "id": "7cf7c5c5-37ca-4818-b5e2-1a95e17a2369",
   "metadata": {},
   "outputs": [],
   "source": [
    "import json"
   ]
  },
  {
   "cell_type": "code",
   "execution_count": 4,
   "id": "bbf089ff",
   "metadata": {},
   "outputs": [
    {
     "name": "stdout",
     "output_type": "stream",
     "text": [
      "[['adaptive'], ['less is more'], ['hierarchical'], ['scaling'], ['in-the-wild'], ['self-refine'], ['look-ahead'], ['hindsight'], ['memory'], ['self-'], ['rethink']]\n",
      "[['agent'], ['planning'], ['RAG'], ['safety'], ['calibration'], ['reasoning'], ['persuasion']]\n",
      "[['transformer'], ['mamba'], ['RL'], ['linear models'], ['KV'], ['quantization']]\n",
      "{'prompt': 'You are a senior professor in AI and your students propose to do <combination>.Can you refine the title into a good one that can be accepted by top conferences such as ACL/EMNLP/NeurIPS/ICLR, etc. and list the potential abstract, introduction outline, and section names? \\n\\n Requirements: 1. do not hallucinate, 2. do not use any existing paper names in your pretraining data.'}\n"
     ]
    }
   ],
   "source": [
    "# import the concept discs: A.json, B.json, C.json and prompt.json in with a helper function\n",
    "\n",
    "import json\n",
    "\n",
    "def import_concept_discs(path):\n",
    "    # research theme\n",
    "    with open(path + 'A.json', 'r') as f:\n",
    "        A = json.load(f)\n",
    "\n",
    "    # research domain\n",
    "    with open(path + 'B.json', 'r') as f:\n",
    "        B = json.load(f)\n",
    "\n",
    "    # research architecture\n",
    "    with open(path + 'C.json', 'r') as f:\n",
    "        C = json.load(f)\n",
    "\n",
    "    with open(path + 'prompt.json', 'r') as f:\n",
    "        prompt = json.load(f)\n",
    "\n",
    "    return A, B, C, prompt\n",
    "\n",
    "path = './resource/seed/'\n",
    "A, B, C, prompt = import_concept_discs(path)\n",
    "\n",
    "print(A)\n",
    "print(B)\n",
    "print(C)\n",
    "print(prompt)"
   ]
  },
  {
   "cell_type": "code",
   "execution_count": null,
   "id": "808bcaf9",
   "metadata": {},
   "outputs": [],
   "source": []
  }
 ],
 "metadata": {
  "kernelspec": {
   "display_name": "Python 3 (ipykernel)",
   "language": "python",
   "name": "python3"
  },
  "language_info": {
   "codemirror_mode": {
    "name": "ipython",
    "version": 3
   },
   "file_extension": ".py",
   "mimetype": "text/x-python",
   "name": "python",
   "nbconvert_exporter": "python",
   "pygments_lexer": "ipython3",
   "version": "3.9.19"
  }
 },
 "nbformat": 4,
 "nbformat_minor": 5
}
